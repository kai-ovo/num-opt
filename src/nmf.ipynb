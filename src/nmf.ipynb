{
 "cells": [
  {
   "cell_type": "markdown",
   "metadata": {},
   "source": [
    "\n",
    "## Overview\n",
    "\n",
    "In this project, we will explore the topic of **Non-negative Matrix Factorization (NMF)**. We will discuss and try some of the fundamental algorithms. \n",
    "\n",
    "<!-- We will attempt to beat the performance of these algorithms on certain datasets by either making modifications on them or proposing new ideas.  -->\n",
    "\n",
    "## Introduction\n",
    "\n",
    "**Non-negative Matrix Factorization (NMF)** problems were first introduced by Pattero and Tapper [[Paatero and Tapper, 1994]](https://onlinelibrary.wiley.com/doi/abs/10.1002/env.3170050203) in 1994 as \"Positive Matrix Factorization\" and later reformulated by Lee and Seung [[Lee and Seung, 2000]](https://proceedings.neurips.cc/paper/2000/hash/f9d1152547c0bde01830b7e8bd60024c-Abstract.html). It has been widely studied due to both of its extensive applications in data science and interesting mathematical properties ever since. \n",
    "\n",
    "<!-- <span style=\"color:red\">**TODO: Literature Review**</span> -->\n",
    "\n",
    "We condider the following problem.\n",
    "\n",
    "[***NMF Problem Statement***] Given a (elementwisely) nonnegative matrix $A \\in \\mathbb{R}^{m \\times n}$ and a positive integer $k < \\min\\{m,n\\}$, find nonnegative matrices $W \\in \\mathbb{R}^{m \\times k}$ and $H \\in \\mathbb{R}^{k \\times n}$ to minimize the functional\n",
    "\n",
    "\\begin{equation}\n",
    "f(W,H)=\\frac{1}{2}\\|A-WH\\|_F^2.\n",
    "\\tag{1}\n",
    "\\end{equation}\n",
    "\n",
    "\n",
    "We call the product $WH$ a **non-negative matrix factorization** of $A$. Note that $WH$ is an approximate factorization of $A$ with a rank of at most $k$. In this case, $k$ is a hyperparameter that needs to be tuned for each independent problem.\n",
    "\n",
    "## Dataset\n",
    "We will explore the [MNIST](http://yann.lecun.com/exdb/mnist/) database of handwritten digits first. In particular, we will perform NMF on the training data, which is a matrix of nonnegative integers with size $60000 \\times 784$. We first load the dataset as an `ndarray` below. The code is adapted from an [official tutorial](https://numpy.org/numpy-tutorials/content/tutorial-deep-learning-on-mnist.html) released by NumPy with modifications being made by the author.\n"
   ]
  },
  {
   "cell_type": "code",
   "execution_count": 23,
   "metadata": {},
   "outputs": [],
   "source": [
    "data_sources = {\n",
    "    \"training_images\": \"train-images-idx3-ubyte.gz\",  # 60,000 training images.\n",
    "    \"test_images\": \"t10k-images-idx3-ubyte.gz\",  # 10,000 test images.\n",
    "    \"training_labels\": \"train-labels-idx1-ubyte.gz\",  # 60,000 training labels.\n",
    "    \"test_labels\": \"t10k-labels-idx1-ubyte.gz\",  # 10,000 test labels.\n",
    "}\n",
    "headers = {\n",
    "    \"User-Agent\": \"Mozilla/5.0 (X11; Linux x86_64; rv:10.0) Gecko/20100101 Firefox/10.0\"\n",
    "}\n",
    "request_opts = {\n",
    "    \"headers\": headers,\n",
    "    \"params\": {\"raw\": \"true\"},\n",
    "}\n",
    "\n",
    "import requests\n",
    "import os\n",
    "\n",
    "data_dir = \"./data\"\n",
    "os.makedirs(data_dir, exist_ok=True)\n",
    "\n",
    "base_url = \"https://github.com/rossbar/numpy-tutorial-data-mirror/blob/main/\"\n",
    "\n",
    "for fname in data_sources.values():\n",
    "    fpath = os.path.join(data_dir, fname)\n",
    "    if not os.path.exists(fpath):\n",
    "        print(\"Downloading file: \" + fname)\n",
    "        resp = requests.get(base_url + fname, stream=True, **request_opts)\n",
    "        resp.raise_for_status()  # Ensure download was succesful\n",
    "        with open(fpath, \"wb\") as fh:\n",
    "            for chunk in resp.iter_content(chunk_size=128):\n",
    "                fh.write(chunk)\n",
    "                \n",
    "import gzip\n",
    "import numpy as np\n",
    "\n",
    "mnist_dataset = {}\n",
    "\n",
    "# Images\n",
    "for key in (\"training_images\", \"test_images\"):\n",
    "    with gzip.open(os.path.join(data_dir, data_sources[key]), \"rb\") as mnist_file:\n",
    "        mnist_dataset[key] = np.frombuffer(\n",
    "            mnist_file.read(), np.uint8, offset=16\n",
    "        ).reshape(-1, 28 * 28)\n",
    "# Labels\n",
    "for key in (\"training_labels\", \"test_labels\"):\n",
    "    with gzip.open(os.path.join(data_dir, data_sources[key]), \"rb\") as mnist_file:\n",
    "        mnist_dataset[key] = np.frombuffer(mnist_file.read(), np.uint8, offset=8)\n",
    "\n",
    "# split datasets\n",
    "x_train, y_train, x_test, y_test = (\n",
    "    mnist_dataset[\"training_images\"],\n",
    "    mnist_dataset[\"training_labels\"],\n",
    "    mnist_dataset[\"test_images\"],\n",
    "    mnist_dataset[\"test_labels\"],\n",
    ")\n",
    "assert type(x_train) == type(np.array([1,1]))"
   ]
  },
  {
   "cell_type": "markdown",
   "metadata": {},
   "source": [
    "## Fundamental Algorithms\n",
    "\n",
    "In this section we discuss several fundamental numerical algorithms for solving $(1)$. We will implement them and do numerical experiments using Python.\n",
    "\n",
    "### Multiplicative Update (MU) Algorithm\n",
    "\n",
    "The first algorithm we see is **Multiplicative Update Algorithm** developed by Lee and Seung [[Lee and Seung, 2000]](https://proceedings.neurips.cc/paper/2000/hash/f9d1152547c0bde01830b7e8bd60024c-Abstract.html). The pseudo-code is provided below. Note that we adopt MATLAB- and Python-style codes for all our pseudocode in this notebook.\n",
    "\n",
    "~~~\n",
    "********************** Algorithm 1: Multiplicative Update **********************\n",
    "\n",
    "MU(A,k,tol,maxit)\n",
    "    W = rand(m,k)\n",
    "    H = rand(k,n)\n",
    "    for i = 1:maxit\n",
    "        H = H .* (W'*A) ./ (W'*W*H + 1e-9)\n",
    "        W = W .* (A*H') ./ (W*H*H' + 1e-9)\n",
    "        if tolerance is satisfied\n",
    "            break\n",
    "    return W,H\n",
    "\n",
    "********************************************************************************\n",
    "~~~\n",
    "The 10<sup>-9</sup> term means to avoid being divided by 0. The implementation is provided below."
   ]
  },
  {
   "cell_type": "code",
   "execution_count": 39,
   "metadata": {},
   "outputs": [],
   "source": [
    "# multiplicative update implementation\n",
    "from numpy.linalg import norm\n",
    "\n",
    "def mu(A,k,tol=1e-6,maxit=1000):\n",
    "    \"\"\"\n",
    "    Algorithm: Multiplicative Update for Nonnegative Matrix Factorization\n",
    "    \n",
    "    Input: \n",
    "            A - matrix of size (m,n)\n",
    "            k - rank of the approximate factorization\n",
    "            tol - tolerance\n",
    "            maxit - maximal iterations allowed\n",
    "    \n",
    "    Output:\n",
    "            W - left factor of the approximate non-negative matrix factorization\n",
    "            H - right factor of the approximate non-negative matrix factorization\n",
    "            error - a list that tracks the variation of the error \n",
    "            flag - a boolean value that indicates whether convergence has been reached\n",
    "    \"\"\"\n",
    "    # type casting\n",
    "    if type(A).__module__ != np.__name__:\n",
    "        A = np.array(A)\n",
    "        \n",
    "    m, n = np.shape(A)\n",
    "    W = np.random.rand(m,k)\n",
    "    H = np.random.rand(k,n)\n",
    "    error = []\n",
    "    error.append(norm(A - W@H, ord='fro'))\n",
    "    tol = norm(A, ord='fro') * tol\n",
    "    \n",
    "    for i in range(maxit):\n",
    "        H = (H * (W.T @ A)) / ((W.T @ W) @ H + 1e-9)\n",
    "        W = (W * (A @ H.T)) / (W @ (H @ H.T) + 1e-9)\n",
    "        err = norm(A - W@H, ord = 'fro')\n",
    "        error.append(err)\n",
    "        if err < tol:\n",
    "            break\n",
    "            \n",
    "    if error[-1] <= tol:\n",
    "        flag = True\n",
    "    else:\n",
    "        flag = False\n",
    "    \n",
    "    # error handling\n",
    "    assert W.shape == (m,k)\n",
    "    assert H.shape == (k,n)\n",
    "    \n",
    "    return W, H, error, flag\n",
    "\n"
   ]
  },
  {
   "cell_type": "markdown",
   "metadata": {},
   "source": [
    "### Gradient Descent Algorithms\n",
    "\n",
    "The next class of NMF algorithms are based on gradient descent methods. The generic framework of gradient descent algorithm is presented below. \n",
    "\n",
    "~~~\n",
    "********************* Algorithm 2: Basic Gradient Descent **********************\n",
    "\n",
    "gradient-descent(A,k,tol,maxit)\n",
    "    W = rand(m,k)\n",
    "    H = rand(k,n)\n",
    "    for i = 1:maxit\n",
    "        H = H - epsilon_H * grad_H\n",
    "        W = W - epsilon_W * grad_W\n",
    "        if tolerance is satisfied\n",
    "            break\n",
    "    return W,H\n",
    "\n",
    "********************************************************************************\n",
    "~~~\n",
    "\n",
    "Often in gradient descent algorithms, a step of projection is added after either $H$ or $W$ is updated. This is to ensure that the target variables stay in the feasible set. The pseudo-code is presented below.\n",
    "\n",
    "~~~\n",
    "********************* Algorithm 2: Basic Gradient Descent **********************\n",
    "\n",
    "gradient-descent(A,k,tol,maxit)\n",
    "    W = rand(m,k)\n",
    "    H = rand(k,n)\n",
    "    for i = 1:maxit\n",
    "        H = H - epsilon_H * grad_H\n",
    "        Project H\n",
    "        W = W - epsilon_W * grad_W\n",
    "        Project W\n",
    "        if tolerance is satisfied\n",
    "            break\n",
    "    return W,H\n",
    "\n",
    "********************************************************************************\n",
    "~~~"
   ]
  },
  {
   "cell_type": "code",
   "execution_count": 42,
   "metadata": {},
   "outputs": [],
   "source": [
    "# generic code for gradient descent\n",
    "from numpy.linalg import norm\n",
    "\n",
    "def gd(A, k, gradH, gradW, epsilon_H=lambda k:1e-3, epsilon_W=lambda k:1e-3, tol=1e-6, maxit=1000):\n",
    "    \"\"\"\n",
    "    Input:\n",
    "          A - matrix of size (m,n)\n",
    "          k - rank of the approximate factorization\n",
    "          gradH - function that computes or approximates the gradient w.r.t. H\n",
    "          gradW - function that computes or approximates the gradient w.r.t. W\n",
    "          epsilon_H - rule of choosing step length for gradH, typically depending on iteration number\n",
    "          epsilon_W - rule of choosing step length for gradW, typically depending on iteration number\n",
    "          tol - tolerance\n",
    "          maxit - maximal iterations allowed  \n",
    "    \n",
    "    Output:\n",
    "            W - left factor of the approximate non-negative matrix factorization\n",
    "            H - right factor of the approximate non-negative matrix factorization\n",
    "            error - list of Frobenius norm of the difference between A and WH\n",
    "            flag - a boolean value that indicates whether convergence has been reached\n",
    "    \"\"\"\n",
    "    if type(A).__module__ != np.__name__:\n",
    "        A = np.array(A)\n",
    "        \n",
    "    def project(X):\n",
    "        return np.maximum(X,np.zeros(np.shape(X)))\n",
    "    \n",
    "    m,n = np.shape(A)\n",
    "    W = np.random.rand(m,k)\n",
    "    H = np.random.rand(k,n)\n",
    "    error = []\n",
    "    error.append(norm(A - W@H, ord='fro'))\n",
    "    tol = tol * norm(A, ord='fro')\n",
    "    \n",
    "    for i in range(maxit):\n",
    "        H = H - epsilon_H(i) * gradH(A,W,H)\n",
    "        H = project(H)\n",
    "        W = W - epsilon_W(i) * gradW(A,W,H)\n",
    "        W = project(W)\n",
    "        err = norm(A-W@H,ord='fro')\n",
    "        error.append(err)\n",
    "        if err < tol:\n",
    "            break\n",
    "            \n",
    "    if error[-1] <= tol:\n",
    "        flag = True\n",
    "    else:\n",
    "        flag = False\n",
    "    \n",
    "    return W, H, error, flag"
   ]
  },
  {
   "cell_type": "markdown",
   "metadata": {},
   "source": [
    "We look at two algorithms in this class: the steepest descent (SD) algorithm and the coordinate descent (CD) algorithm. We will implement SD but use [scikit-learn](https://scikit-learn.org/stable/index.html) for CD.\n",
    "\n",
    "We need to derive the gradients of (1) with respect to $W$ and $H$ for SD. To do so, let us remind ourselves some facts regarding the trace operator $Tr(\\cdot)$ which maps from $\\mathbb{R}^{n \\times n}$ to $\\mathbb{R}$. \n",
    "\n",
    "Suppose in the following formulas, $Tr(\\cdot)$ is well-defined for the inputs. We then have\n",
    "\n",
    "\\begin{equation}\n",
    "\\tag{2}\n",
    "\\dfrac{\\partial Tr(AXB)}{\\partial X} = A^TB^T,\n",
    "\\end{equation} \n",
    "\n",
    "\\begin{equation}\n",
    "\\tag{3}\n",
    "\\dfrac{\\partial Tr(X^TBX)}{\\partial X} = BX + B^TX,\n",
    "\\end{equation} \n",
    "\n",
    "and\n",
    "\n",
    "\\begin{equation}\n",
    "\\tag{4}\n",
    "\\dfrac{\\partial Tr(B^TX^TXB)}{\\partial X} = 2XBB^T.\n",
    "\\end{equation} \n",
    "\n",
    "With these, we are well-equipped to compute the gradients. Note that by the convention of matrix calculus, we denote the gradients by $\\dfrac{\\partial f}{\\partial W}$ and $\\dfrac{\\partial f}{\\partial H}$ instead of using $\\nabla(\\cdot)$.\n",
    "\n",
    "We proceed by rewriting $(1)$ into \n",
    "\n",
    "\\begin{align}\n",
    "f(W,H) &= \\frac{1}{2}\\|A-WH\\|_F^2 = \\frac{1}{2}Tr\\left((A-WH)^T(A-WH)\\right)\\\\\n",
    "       &= \\frac{1}{2}Tr\\left(A^TA-A^TWH-H^TW^TA+H^TW^TWH\\right).\\\\\n",
    "\\end{align}\n",
    "\n",
    "With this and the linearity of $Tr(\\cdot)$, we obtain \n",
    "\n",
    "\\begin{align}\n",
    "\\dfrac{\\partial f}{\\partial W} &= \\frac{1}{2}\\left(\\dfrac{\\partial Tr(H^TW^TWH)}{\\partial W} - \\dfrac{\\partial Tr(A^TWH)}{\\partial W} - \\dfrac{\\partial Tr(H^TW^TA)}{\\partial W}\\right) \\\\\n",
    "&= \\frac{1}{2}\\left(2WHH^T-AH^T - AH^T\\right)\\\\\n",
    "&= WHH^T-AH^T \\tag{5}\n",
    "\\end{align}\n",
    "\n",
    "and \n",
    "\n",
    "\\begin{align}\n",
    "\\dfrac{\\partial f}{\\partial H} &= \\frac{1}{2}\\left(\\dfrac{\\partial Tr(H^TW^TWH)}{\\partial H} - \\dfrac{\\partial Tr(A^TWH)}{\\partial H} - \\dfrac{\\partial Tr(H^TW^TA)}{\\partial H}\\right) \\\\\n",
    "&= \\frac{1}{2}\\left(2W^TWH-W^TA-W^TA\\right)\\\\\n",
    "&= W^TWH-W^TA \\tag{6}\n",
    "\\end{align}\n",
    "\n",
    "by applying $(2)$, $(3)$, and $(4)$ accordingly. Now we just need to plug this exact gradient into the framework of the generic gradient descent algorithm. The implementation is provided below.\n"
   ]
  },
  {
   "cell_type": "code",
   "execution_count": 37,
   "metadata": {},
   "outputs": [],
   "source": [
    "# Projected Steepest Descent\n",
    "\n",
    "def sd(A, k, epsilon_H=lambda k:1e-3, epsilon_W=lambda k:1e-3, tol=1e-6, maxit=1000):\n",
    "    \n",
    "    def exact_gradH(A,W,H):\n",
    "        \"\"\"\n",
    "        Output: exact gradient w.r.t. H\n",
    "        \"\"\"\n",
    "        return (W.T @ W) @ H - W.T @ A\n",
    "\n",
    "    def exact_gradW(A,W,H):\n",
    "        \"\"\"\n",
    "        Output: exact gradient w.r.t. W\n",
    "        \"\"\"\n",
    "        return W @ (H @ H.T) - A @ H.T\n",
    "    \n",
    "    \n",
    "    return gd(A,k,exact_gradH, exact_gradW, epsilon_H, epsilon_W, tol, maxit)"
   ]
  },
  {
   "cell_type": "markdown",
   "metadata": {},
   "source": [
    "For CD, we adopt the framework provided by [scikit-learn](https://scikit-learn.org/stable/index.html)."
   ]
  },
  {
   "cell_type": "markdown",
   "metadata": {},
   "source": [
    "## Numerical Experiments\n",
    "\n",
    "We present the numerical results below. To ensure that the notebook runs within 10 minutes, we sample 5000 rows from the training data. \n",
    "\n",
    "We first consider MU and CD. We set the rank of the factors to be 650. The maximal number of iterations is set to be 100 and 1000 for CD and MU respectively. "
   ]
  },
  {
   "cell_type": "code",
   "execution_count": 34,
   "metadata": {},
   "outputs": [
    {
     "name": "stderr",
     "output_type": "stream",
     "text": [
      "/opt/anaconda3/lib/python3.8/site-packages/sklearn/decomposition/_nmf.py:1637: ConvergenceWarning: Maximum number of iterations 1000 reached. Increase it to improve convergence.\n",
      "  warnings.warn(\n"
     ]
    },
    {
     "name": "stdout",
     "output_type": "stream",
     "text": [
      "-------------result-----------------\n",
      "multiplicative update\n",
      "loss:  11624.01892430597\n",
      "relative error:  0.06862146906194548\n",
      "running time:  275.6520960330963\n",
      "iteration number:  1000\n",
      "------------------------------------\n",
      "coordinate descent\n",
      "loss:  9019.118246857734\n",
      "relative error:  0.05324364557327393\n",
      "running time:  247.28826904296875\n",
      "iteration number:  100\n",
      "------------------------------------\n"
     ]
    },
    {
     "name": "stderr",
     "output_type": "stream",
     "text": [
      "/opt/anaconda3/lib/python3.8/site-packages/sklearn/decomposition/_nmf.py:1637: ConvergenceWarning: Maximum number of iterations 100 reached. Increase it to improve convergence.\n",
      "  warnings.warn(\n"
     ]
    }
   ],
   "source": [
    "from sklearn.decomposition import NMF\n",
    "import time\n",
    "\n",
    "m,n,rank = 5000, 784, 650\n",
    "np.random.seed(0)\n",
    "sample_idx = np.random.randint(0,59999,(m,))\n",
    "A = x_train[sample_idx,:]\n",
    "\n",
    "# multiplicative update\n",
    "model1 = NMF(n_components=rank, solver='mu', init='nndsvda', max_iter=1000, random_state=0)\n",
    "t0 = time.time()\n",
    "muW = model1.fit_transform(A)\n",
    "t1 = time.time()\n",
    "muH = model1.components_\n",
    "mu_time = t1-t0\n",
    "\n",
    "print(\"-------------result-----------------\")\n",
    "print(\"multiplicative update\")\n",
    "print(\"loss: \", model1.reconstruction_err_)\n",
    "print(\"relative error: \", model1.reconstruction_err_/np.linalg.norm(A,'fro'))\n",
    "print(\"running time: \", mu_time)\n",
    "print(\"iteration number: \", model1.n_iter_)\n",
    "print(\"------------------------------------\")\n",
    "\n",
    "# coordinate descent\n",
    "A = x_train[sample_idx,:]\n",
    "model2 = NMF(n_components=rank, solver='cd', init='nndsvda', max_iter=100, random_state=0)\n",
    "t2 = time.time()\n",
    "cdW = model2.fit_transform(A)\n",
    "t3 = time.time()\n",
    "cdH = model2.components_\n",
    "cd_time=t3-t2\n",
    "\n",
    "print(\"coordinate descent\")\n",
    "print(\"loss: \", model2.reconstruction_err_)\n",
    "print(\"relative error: \", model2.reconstruction_err_/np.linalg.norm(A,'fro'))\n",
    "print(\"running time: \", cd_time)\n",
    "print(\"iteration number: \", model2.n_iter_)\n",
    "print(\"------------------------------------\")"
   ]
  },
  {
   "cell_type": "markdown",
   "metadata": {},
   "source": [
    "In the experiment, both methods reached the maximal iterations without reaching the error tolerance. It took about 260 seconds for MU to finish 1000 iterations and 248 seconds for CD to finish 100 iterations. The relative errors of the final result were roughly the same for both algorithms with that of CD slightly better. \n",
    "\n",
    "From the result above, we see that while each iteration of CD takes a much longer time, the convergence behaviour is much more favorable than that of MU. \n",
    "\n",
    "To get a better idea of this, in the code blocks below, we increase the maximal iteration number from 100 and 1000 to 200 and 2000. This time, the MU algorithm stopped at the 1250-th iteration (by reaching a stationary point), but the relative error is still fairly large. In contrast, the CD algorithm finished all the 200 iterations and achieved a much lower relative error and loss compared to the 100-iteration case. (**Re-running this would take more than 15 minutes.**)"
   ]
  },
  {
   "cell_type": "code",
   "execution_count": 36,
   "metadata": {},
   "outputs": [
    {
     "name": "stdout",
     "output_type": "stream",
     "text": [
      "-------------result-----------------\n",
      "multiplicative update\n",
      "loss:  11120.690804286422\n",
      "relative error:  0.06565011163033403\n",
      "running time:  340.06663608551025\n",
      "iteration number:  1250\n",
      "------------------------------------\n",
      "coordinate descent\n",
      "loss:  7160.705452356724\n",
      "relative error:  0.0422726537921513\n",
      "running time:  495.76175594329834\n",
      "iteration number:  200\n"
     ]
    },
    {
     "name": "stderr",
     "output_type": "stream",
     "text": [
      "/opt/anaconda3/lib/python3.8/site-packages/sklearn/decomposition/_nmf.py:1637: ConvergenceWarning: Maximum number of iterations 200 reached. Increase it to improve convergence.\n",
      "  warnings.warn(\n"
     ]
    }
   ],
   "source": [
    "from sklearn.decomposition import NMF\n",
    "import time\n",
    "\n",
    "m,n,rank = 5000, 784, 650\n",
    "np.random.seed(0)\n",
    "sample_idx = np.random.randint(0,59999,(m,))\n",
    "A = x_train[sample_idx,:]\n",
    "\n",
    "# multiplicative update\n",
    "model11 = NMF(n_components=rank, solver='mu', init='random', max_iter=2000, random_state=0)\n",
    "t00 = time.time()\n",
    "muW2 = model11.fit_transform(A)\n",
    "t11 = time.time()\n",
    "muH2 = model11.components_\n",
    "mu_time2 = t11-t00\n",
    "\n",
    "# coordinate descent\n",
    "A = x_train[sample_idx,:]\n",
    "model22 = NMF(n_components=rank, solver='cd', init='random', max_iter=200, random_state=0)\n",
    "t22 = time.time()\n",
    "cdW2 = model22.fit_transform(A)\n",
    "t33 = time.time()\n",
    "cdH2 = model22.components_\n",
    "cd_time2=t33-t22\n",
    "\n",
    "print(\"-------------result-----------------\")\n",
    "print(\"multiplicative update\")\n",
    "print(\"loss: \", model11.reconstruction_err_)\n",
    "print(\"relative error: \", model11.reconstruction_err_/np.linalg.norm(A,'fro'))\n",
    "print(\"running time: \", mu_time2)\n",
    "print(\"iteration number: \", model11.n_iter_)\n",
    "print(\"------------------------------------\")\n",
    "print(\"coordinate descent\")\n",
    "print(\"loss: \", model22.reconstruction_err_)\n",
    "print(\"relative error: \", model22.reconstruction_err_/np.linalg.norm(A,'fro'))\n",
    "print(\"running time: \", cd_time2)\n",
    "print(\"iteration number: \", model22.n_iter_)"
   ]
  },
  {
   "cell_type": "markdown",
   "metadata": {},
   "source": [
    "In fact, if we use the MU algorithm implemented on our own and plot the error, we see that after certain iterations, the algorithm becomes not as effective."
   ]
  },
  {
   "cell_type": "code",
   "execution_count": 40,
   "metadata": {},
   "outputs": [
    {
     "data": {
      "text/plain": [
       "Text(0.5, 1.0, 'Loss with MU')"
      ]
     },
     "execution_count": 40,
     "metadata": {},
     "output_type": "execute_result"
    },
    {
     "data": {
      "image/png": "[encoded data removed]",
      "text/plain": [
       "<Figure size 432x288 with 1 Axes>"
      ]
     },
     "metadata": {
      "needs_background": "light"
     },
     "output_type": "display_data"
    }
   ],
   "source": [
    "import matplotlib.pyplot as plt\n",
    "\n",
    "m,n,k = 5000, 784, 650\n",
    "maxit = 1500\n",
    "np.random.seed(0)\n",
    "sample_idx = np.random.randint(0,59999,(m,))\n",
    "A = x_train[sample_idx,:]\n",
    "W_mu,H_mu,error_mu,_ = mu(A,k,maxit=maxit)\n",
    "plt.semilogy(error_mu)\n",
    "plt.xlabel(\"Number of Iterations\")\n",
    "plt.ylabel(\"Value of Loss\")\n",
    "plt.title(\"Loss with MU\")"
   ]
  },
  {
   "cell_type": "markdown",
   "metadata": {},
   "source": [
    "Before moving on to steepest descent, we comment that gradient descent methods are generally very slow to converge (if they converge at all)[[Berry et al., 2006]](https://ieeexplore.ieee.org/abstract/document/4634046). To have a nicely-working gradient descent algorithm, the step size has to be carefully chosen.\n",
    "\n",
    "As such, we tested many different rule of step sizes, including $\\dfrac{1}{2^k}$ where $k$ is the number of iteration where the algorithm is currently at, 0.001, 0.01, $\\dfrac{1}{2^{20}}$. As it turns out, the step size that worked the best among all the tested ones was $\\dfrac{1}{2^{18}}$. This is purely heuristic, but it actually worked fine. The result is presented below. By plotting the errors given by this together with those given by MU, we see that MU still works better than SD with this \"carefully chosen\" heuristic step size."
   ]
  },
  {
   "cell_type": "code",
   "execution_count": 57,
   "metadata": {},
   "outputs": [],
   "source": [
    "# steepest descent experiments\n",
    "m,n,k = 5000, 784, 650\n",
    "np.random.seed(0)\n",
    "sample_idx = np.random.randint(0,59999,(m,))\n",
    "A = x_train[sample_idx,:]\n",
    "epsilon = lambda k: 1/(2**18)\n",
    "# def epsilon(k):\n",
    "#     return 1/(2**k)\n",
    "k = 650\n",
    "tol=1e-5\n",
    "maxit = 1000\n",
    "W,H,error_sd,flag = sd(A,k,epsilon,epsilon,tol=tol,maxit=maxit)\n"
   ]
  },
  {
   "cell_type": "code",
   "execution_count": 63,
   "metadata": {},
   "outputs": [
    {
     "data": {
      "text/plain": [
       "<matplotlib.legend.Legend at 0x7f9ac04357c0>"
      ]
     },
     "execution_count": 63,
     "metadata": {},
     "output_type": "execute_result"
    },
    {
     "data": {
      "image/png": "[encoded data removed]",
      "text/plain": [
       "<Figure size 432x288 with 1 Axes>"
      ]
     },
     "metadata": {
      "needs_background": "light"
     },
     "output_type": "display_data"
    }
   ],
   "source": [
    "import matplotlib.pyplot as plt\n",
    "fig = plt.figure(1)\n",
    "ax = fig.add_subplot(111)\n",
    "ax.semilogy(error_sd,label=\"Steepest Descent\")\n",
    "ax.semilogy(error_mu[:1000],label=\"Multiplicative Update\")\n",
    "plt.xlabel(\"Number of Iterations\")\n",
    "plt.ylabel(\"Value of Loss\")\n",
    "plt.title(\"Loss Comparison\")\n",
    "ax.legend(loc='best')"
   ]
  },
  {
   "cell_type": "code",
   "execution_count": null,
   "metadata": {},
   "outputs": [],
   "source": []
  }
 ],
 "metadata": {
  "kernelspec": {
   "display_name": "Python 3 (ipykernel)",
   "language": "python",
   "name": "python3"
  },
  "language_info": {
   "codemirror_mode": {
    "name": "ipython",
    "version": 3
   },
   "file_extension": ".py",
   "mimetype": "text/x-python",
   "name": "python",
   "nbconvert_exporter": "python",
   "pygments_lexer": "ipython3",
   "version": "3.9.13"
  }
 },
 "nbformat": 4,
 "nbformat_minor": 4
}
